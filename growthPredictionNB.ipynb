{
 "cells": [
  {
   "cell_type": "code",
   "execution_count": 145,
   "metadata": {},
   "outputs": [],
   "source": [
    "# Here we will train a machine learning model using our preprocessed population statistics and road network data\n",
    "# Typical data processing libraries\n",
    "import pandas as pd\n",
    "import numpy as np\n",
    "import matplotlib.pyplot as plt\n",
    "\n",
    "# Machine learning libraries\n",
    "from sklearn.model_selection import train_test_split\n",
    "from sklearn.pipeline import Pipeline\n",
    "from sklearn.impute import SimpleImputer\n",
    "from sklearn.preprocessing import StandardScaler, OneHotEncoder\n",
    "from sklearn.compose import ColumnTransformer\n",
    "\n",
    "from sklearn.ensemble import RandomForestRegressor\n",
    "\n",
    "from sklearn.metrics import mean_squared_error, r2_score\n",
    "\n",
    "from sklearn.model_selection import GridSearchCV"
   ]
  },
  {
   "cell_type": "code",
   "execution_count": 146,
   "metadata": {},
   "outputs": [],
   "source": [
    "# First, let's load our preprocessed data\n",
    "\n",
    "dataSetName = 'NB'\n",
    "census2016 = pd.read_csv(f'./processedData/processed_{dataSetName}_2016.csv')\n",
    "census2021 = pd.read_csv(f'./processedData/processed_{dataSetName}_2021.csv')\n",
    "networks = pd.read_csv(f'./processedData/networkCharacteristics.csv')\n"
   ]
  },
  {
   "cell_type": "code",
   "execution_count": 147,
   "metadata": {},
   "outputs": [
    {
     "data": {
      "text/html": [
       "<div>\n",
       "<style scoped>\n",
       "    .dataframe tbody tr th:only-of-type {\n",
       "        vertical-align: middle;\n",
       "    }\n",
       "\n",
       "    .dataframe tbody tr th {\n",
       "        vertical-align: top;\n",
       "    }\n",
       "\n",
       "    .dataframe thead th {\n",
       "        text-align: right;\n",
       "    }\n",
       "</style>\n",
       "<table border=\"1\" class=\"dataframe\">\n",
       "  <thead>\n",
       "    <tr style=\"text-align: right;\">\n",
       "      <th></th>\n",
       "      <th>GEO_NAME</th>\n",
       "      <th>% of owner households spending 30% or more of its income on shelter costs</th>\n",
       "      <th>% of owner households with a mortgage</th>\n",
       "      <th>% of tenant households in subsidized housing</th>\n",
       "      <th>% of tenant households spending 30% or more of its income on shelter costs</th>\n",
       "      <th>0 Management occupations</th>\n",
       "      <th>0 to 14 years</th>\n",
       "      <th>0 to 17 years</th>\n",
       "      <th>0 to 17 years (%)</th>\n",
       "      <th>0 to 4 years</th>\n",
       "      <th>...</th>\n",
       "      <th>Total labour force population aged 15 years and over by occupation - National Occupational Classification (NOC) 2016 - 25% sample data</th>\n",
       "      <th>Total number of census families in private households - 100% data</th>\n",
       "      <th>Total population aged 15 years and over by work activity during the reference year - 25% sample data</th>\n",
       "      <th>Total visible minority population</th>\n",
       "      <th>Two-or-more person non-census-family households</th>\n",
       "      <th>Under 5 years</th>\n",
       "      <th>Unemployed</th>\n",
       "      <th>Unemployment rate</th>\n",
       "      <th>With employment income</th>\n",
       "      <th>Without employment income</th>\n",
       "    </tr>\n",
       "  </thead>\n",
       "  <tbody>\n",
       "    <tr>\n",
       "      <th>0</th>\n",
       "      <td>Aberdeen</td>\n",
       "      <td>7.3</td>\n",
       "      <td>38.2</td>\n",
       "      <td>0.0</td>\n",
       "      <td>0.0</td>\n",
       "      <td>25.0</td>\n",
       "      <td>85.0</td>\n",
       "      <td>120.0</td>\n",
       "      <td>25.0</td>\n",
       "      <td>25.0</td>\n",
       "      <td>...</td>\n",
       "      <td>370.0</td>\n",
       "      <td>250.0</td>\n",
       "      <td>720.0</td>\n",
       "      <td>0.0</td>\n",
       "      <td>5.0</td>\n",
       "      <td>0.0</td>\n",
       "      <td>75.0</td>\n",
       "      <td>20.0</td>\n",
       "      <td>410.0</td>\n",
       "      <td>285.0</td>\n",
       "    </tr>\n",
       "    <tr>\n",
       "      <th>1</th>\n",
       "      <td>Acadieville</td>\n",
       "      <td>7.4</td>\n",
       "      <td>36.4</td>\n",
       "      <td>0.0</td>\n",
       "      <td>0.0</td>\n",
       "      <td>15.0</td>\n",
       "      <td>80.0</td>\n",
       "      <td>95.0</td>\n",
       "      <td>31.6</td>\n",
       "      <td>25.0</td>\n",
       "      <td>...</td>\n",
       "      <td>325.0</td>\n",
       "      <td>240.0</td>\n",
       "      <td>595.0</td>\n",
       "      <td>10.0</td>\n",
       "      <td>5.0</td>\n",
       "      <td>0.0</td>\n",
       "      <td>70.0</td>\n",
       "      <td>21.5</td>\n",
       "      <td>380.0</td>\n",
       "      <td>245.0</td>\n",
       "    </tr>\n",
       "    <tr>\n",
       "      <th>2</th>\n",
       "      <td>Addington</td>\n",
       "      <td>7.1</td>\n",
       "      <td>44.6</td>\n",
       "      <td>0.0</td>\n",
       "      <td>0.0</td>\n",
       "      <td>15.0</td>\n",
       "      <td>70.0</td>\n",
       "      <td>85.0</td>\n",
       "      <td>11.8</td>\n",
       "      <td>10.0</td>\n",
       "      <td>...</td>\n",
       "      <td>320.0</td>\n",
       "      <td>210.0</td>\n",
       "      <td>585.0</td>\n",
       "      <td>0.0</td>\n",
       "      <td>10.0</td>\n",
       "      <td>10.0</td>\n",
       "      <td>90.0</td>\n",
       "      <td>28.1</td>\n",
       "      <td>375.0</td>\n",
       "      <td>215.0</td>\n",
       "    </tr>\n",
       "    <tr>\n",
       "      <th>3</th>\n",
       "      <td>Allardville</td>\n",
       "      <td>10.1</td>\n",
       "      <td>43.0</td>\n",
       "      <td>0.0</td>\n",
       "      <td>0.0</td>\n",
       "      <td>30.0</td>\n",
       "      <td>240.0</td>\n",
       "      <td>315.0</td>\n",
       "      <td>17.5</td>\n",
       "      <td>55.0</td>\n",
       "      <td>...</td>\n",
       "      <td>800.0</td>\n",
       "      <td>645.0</td>\n",
       "      <td>1785.0</td>\n",
       "      <td>0.0</td>\n",
       "      <td>20.0</td>\n",
       "      <td>0.0</td>\n",
       "      <td>215.0</td>\n",
       "      <td>26.9</td>\n",
       "      <td>1045.0</td>\n",
       "      <td>730.0</td>\n",
       "    </tr>\n",
       "    <tr>\n",
       "      <th>4</th>\n",
       "      <td>Alma</td>\n",
       "      <td>NaN</td>\n",
       "      <td>21.4</td>\n",
       "      <td>0.0</td>\n",
       "      <td>NaN</td>\n",
       "      <td>20.0</td>\n",
       "      <td>25.0</td>\n",
       "      <td>NaN</td>\n",
       "      <td>NaN</td>\n",
       "      <td>10.0</td>\n",
       "      <td>...</td>\n",
       "      <td>50.0</td>\n",
       "      <td>70.0</td>\n",
       "      <td>105.0</td>\n",
       "      <td>0.0</td>\n",
       "      <td>0.0</td>\n",
       "      <td>0.0</td>\n",
       "      <td>15.0</td>\n",
       "      <td>30.0</td>\n",
       "      <td>NaN</td>\n",
       "      <td>NaN</td>\n",
       "    </tr>\n",
       "  </tbody>\n",
       "</table>\n",
       "<p>5 rows × 214 columns</p>\n",
       "</div>"
      ],
      "text/plain": [
       "      GEO_NAME  \\\n",
       "0     Aberdeen   \n",
       "1  Acadieville   \n",
       "2    Addington   \n",
       "3  Allardville   \n",
       "4         Alma   \n",
       "\n",
       "   % of owner households spending 30% or more of its income on shelter costs  \\\n",
       "0                                                7.3                           \n",
       "1                                                7.4                           \n",
       "2                                                7.1                           \n",
       "3                                               10.1                           \n",
       "4                                                NaN                           \n",
       "\n",
       "   % of owner households with a mortgage  \\\n",
       "0                                   38.2   \n",
       "1                                   36.4   \n",
       "2                                   44.6   \n",
       "3                                   43.0   \n",
       "4                                   21.4   \n",
       "\n",
       "   % of tenant households in subsidized housing  \\\n",
       "0                                           0.0   \n",
       "1                                           0.0   \n",
       "2                                           0.0   \n",
       "3                                           0.0   \n",
       "4                                           0.0   \n",
       "\n",
       "   % of tenant households spending 30% or more of its income on shelter costs  \\\n",
       "0                                                0.0                            \n",
       "1                                                0.0                            \n",
       "2                                                0.0                            \n",
       "3                                                0.0                            \n",
       "4                                                NaN                            \n",
       "\n",
       "   0 Management occupations  0 to 14 years  0 to 17 years  0 to 17 years (%)  \\\n",
       "0                      25.0           85.0          120.0               25.0   \n",
       "1                      15.0           80.0           95.0               31.6   \n",
       "2                      15.0           70.0           85.0               11.8   \n",
       "3                      30.0          240.0          315.0               17.5   \n",
       "4                      20.0           25.0            NaN                NaN   \n",
       "\n",
       "   0 to 4 years  ...  \\\n",
       "0          25.0  ...   \n",
       "1          25.0  ...   \n",
       "2          10.0  ...   \n",
       "3          55.0  ...   \n",
       "4          10.0  ...   \n",
       "\n",
       "   Total labour force population aged 15 years and over by occupation - National Occupational Classification (NOC) 2016 - 25% sample data  \\\n",
       "0                                              370.0                                                                                        \n",
       "1                                              325.0                                                                                        \n",
       "2                                              320.0                                                                                        \n",
       "3                                              800.0                                                                                        \n",
       "4                                               50.0                                                                                        \n",
       "\n",
       "   Total number of census families in private households - 100% data  \\\n",
       "0                                              250.0                   \n",
       "1                                              240.0                   \n",
       "2                                              210.0                   \n",
       "3                                              645.0                   \n",
       "4                                               70.0                   \n",
       "\n",
       "   Total population aged 15 years and over by work activity during the reference year - 25% sample data  \\\n",
       "0                                              720.0                                                      \n",
       "1                                              595.0                                                      \n",
       "2                                              585.0                                                      \n",
       "3                                             1785.0                                                      \n",
       "4                                              105.0                                                      \n",
       "\n",
       "   Total visible minority population  \\\n",
       "0                                0.0   \n",
       "1                               10.0   \n",
       "2                                0.0   \n",
       "3                                0.0   \n",
       "4                                0.0   \n",
       "\n",
       "   Two-or-more person non-census-family households  Under 5 years  Unemployed  \\\n",
       "0                                              5.0            0.0        75.0   \n",
       "1                                              5.0            0.0        70.0   \n",
       "2                                             10.0           10.0        90.0   \n",
       "3                                             20.0            0.0       215.0   \n",
       "4                                              0.0            0.0        15.0   \n",
       "\n",
       "   Unemployment rate  With employment income  Without employment income  \n",
       "0               20.0                   410.0                      285.0  \n",
       "1               21.5                   380.0                      245.0  \n",
       "2               28.1                   375.0                      215.0  \n",
       "3               26.9                  1045.0                      730.0  \n",
       "4               30.0                     NaN                        NaN  \n",
       "\n",
       "[5 rows x 214 columns]"
      ]
     },
     "execution_count": 147,
     "metadata": {},
     "output_type": "execute_result"
    }
   ],
   "source": [
    "# We know what this data looks like from the other journal, but let's print things here for reference\n",
    "census2016.head()"
   ]
  },
  {
   "cell_type": "code",
   "execution_count": 148,
   "metadata": {},
   "outputs": [
    {
     "data": {
      "text/html": [
       "<div>\n",
       "<style scoped>\n",
       "    .dataframe tbody tr th:only-of-type {\n",
       "        vertical-align: middle;\n",
       "    }\n",
       "\n",
       "    .dataframe tbody tr th {\n",
       "        vertical-align: top;\n",
       "    }\n",
       "\n",
       "    .dataframe thead th {\n",
       "        text-align: right;\n",
       "    }\n",
       "</style>\n",
       "<table border=\"1\" class=\"dataframe\">\n",
       "  <thead>\n",
       "    <tr style=\"text-align: right;\">\n",
       "      <th></th>\n",
       "      <th>GEO_NAME</th>\n",
       "      <th>% of households living in a dwelling provided by the local government, First Nation or Indian band spending more than 30% on shelter costs</th>\n",
       "      <th>% of owner households spending 30% or more of its income on shelter costs</th>\n",
       "      <th>% of owner households with a mortgage</th>\n",
       "      <th>% of tenant households in subsidized housing</th>\n",
       "      <th>% of tenant households spending 30% or more of its income on shelter costs</th>\n",
       "      <th>0 Legislative and senior management occupations</th>\n",
       "      <th>0 to 14 years</th>\n",
       "      <th>0 to 17 years</th>\n",
       "      <th>0 to 17 years (%)</th>\n",
       "      <th>...</th>\n",
       "      <th>Total - Visible minority for the population in private households - 25% sample data</th>\n",
       "      <th>Total number of census families in private households - 100% data</th>\n",
       "      <th>Total visible minority population</th>\n",
       "      <th>Two-maintainer household</th>\n",
       "      <th>Two-or-more-person non-census-family households</th>\n",
       "      <th>Under 5 years</th>\n",
       "      <th>Unemployed</th>\n",
       "      <th>Unemployment rate</th>\n",
       "      <th>With employment income</th>\n",
       "      <th>Without employment income</th>\n",
       "    </tr>\n",
       "  </thead>\n",
       "  <tbody>\n",
       "    <tr>\n",
       "      <th>0</th>\n",
       "      <td>Aberdeen</td>\n",
       "      <td>NaN</td>\n",
       "      <td>5.9</td>\n",
       "      <td>35.3</td>\n",
       "      <td>0.0</td>\n",
       "      <td>0.0</td>\n",
       "      <td>0.0</td>\n",
       "      <td>90.0</td>\n",
       "      <td>110.0</td>\n",
       "      <td>10.0</td>\n",
       "      <td>...</td>\n",
       "      <td>875.0</td>\n",
       "      <td>255.0</td>\n",
       "      <td>0.0</td>\n",
       "      <td>200.0</td>\n",
       "      <td>15.0</td>\n",
       "      <td>10.0</td>\n",
       "      <td>40.0</td>\n",
       "      <td>9.6</td>\n",
       "      <td>460.0</td>\n",
       "      <td>265.0</td>\n",
       "    </tr>\n",
       "    <tr>\n",
       "      <th>1</th>\n",
       "      <td>Acadieville</td>\n",
       "      <td>NaN</td>\n",
       "      <td>6.8</td>\n",
       "      <td>50.8</td>\n",
       "      <td>0.0</td>\n",
       "      <td>0.0</td>\n",
       "      <td>0.0</td>\n",
       "      <td>90.0</td>\n",
       "      <td>100.0</td>\n",
       "      <td>16.0</td>\n",
       "      <td>...</td>\n",
       "      <td>745.0</td>\n",
       "      <td>250.0</td>\n",
       "      <td>0.0</td>\n",
       "      <td>190.0</td>\n",
       "      <td>10.0</td>\n",
       "      <td>0.0</td>\n",
       "      <td>70.0</td>\n",
       "      <td>20.9</td>\n",
       "      <td>400.0</td>\n",
       "      <td>265.0</td>\n",
       "    </tr>\n",
       "    <tr>\n",
       "      <th>2</th>\n",
       "      <td>Addington</td>\n",
       "      <td>NaN</td>\n",
       "      <td>9.7</td>\n",
       "      <td>38.7</td>\n",
       "      <td>0.0</td>\n",
       "      <td>0.0</td>\n",
       "      <td>0.0</td>\n",
       "      <td>80.0</td>\n",
       "      <td>100.0</td>\n",
       "      <td>14.0</td>\n",
       "      <td>...</td>\n",
       "      <td>695.0</td>\n",
       "      <td>225.0</td>\n",
       "      <td>0.0</td>\n",
       "      <td>150.0</td>\n",
       "      <td>5.0</td>\n",
       "      <td>0.0</td>\n",
       "      <td>75.0</td>\n",
       "      <td>20.8</td>\n",
       "      <td>380.0</td>\n",
       "      <td>235.0</td>\n",
       "    </tr>\n",
       "    <tr>\n",
       "      <th>3</th>\n",
       "      <td>Allardville</td>\n",
       "      <td>NaN</td>\n",
       "      <td>4.5</td>\n",
       "      <td>50.6</td>\n",
       "      <td>0.0</td>\n",
       "      <td>0.0</td>\n",
       "      <td>0.0</td>\n",
       "      <td>180.0</td>\n",
       "      <td>225.0</td>\n",
       "      <td>15.0</td>\n",
       "      <td>...</td>\n",
       "      <td>1935.0</td>\n",
       "      <td>630.0</td>\n",
       "      <td>10.0</td>\n",
       "      <td>390.0</td>\n",
       "      <td>30.0</td>\n",
       "      <td>0.0</td>\n",
       "      <td>195.0</td>\n",
       "      <td>21.3</td>\n",
       "      <td>1000.0</td>\n",
       "      <td>760.0</td>\n",
       "    </tr>\n",
       "    <tr>\n",
       "      <th>4</th>\n",
       "      <td>Alma</td>\n",
       "      <td>NaN</td>\n",
       "      <td>0.0</td>\n",
       "      <td>27.3</td>\n",
       "      <td>NaN</td>\n",
       "      <td>NaN</td>\n",
       "      <td>0.0</td>\n",
       "      <td>45.0</td>\n",
       "      <td>50.0</td>\n",
       "      <td>NaN</td>\n",
       "      <td>...</td>\n",
       "      <td>275.0</td>\n",
       "      <td>85.0</td>\n",
       "      <td>0.0</td>\n",
       "      <td>50.0</td>\n",
       "      <td>0.0</td>\n",
       "      <td>0.0</td>\n",
       "      <td>50.0</td>\n",
       "      <td>43.5</td>\n",
       "      <td>160.0</td>\n",
       "      <td>70.0</td>\n",
       "    </tr>\n",
       "  </tbody>\n",
       "</table>\n",
       "<p>5 rows × 263 columns</p>\n",
       "</div>"
      ],
      "text/plain": [
       "      GEO_NAME  \\\n",
       "0     Aberdeen   \n",
       "1  Acadieville   \n",
       "2    Addington   \n",
       "3  Allardville   \n",
       "4         Alma   \n",
       "\n",
       "   % of households living in a dwelling provided by the local government, First Nation or Indian band spending more than 30% on shelter costs  \\\n",
       "0                                                NaN                                                                                            \n",
       "1                                                NaN                                                                                            \n",
       "2                                                NaN                                                                                            \n",
       "3                                                NaN                                                                                            \n",
       "4                                                NaN                                                                                            \n",
       "\n",
       "   % of owner households spending 30% or more of its income on shelter costs  \\\n",
       "0                                                5.9                           \n",
       "1                                                6.8                           \n",
       "2                                                9.7                           \n",
       "3                                                4.5                           \n",
       "4                                                0.0                           \n",
       "\n",
       "   % of owner households with a mortgage  \\\n",
       "0                                   35.3   \n",
       "1                                   50.8   \n",
       "2                                   38.7   \n",
       "3                                   50.6   \n",
       "4                                   27.3   \n",
       "\n",
       "   % of tenant households in subsidized housing  \\\n",
       "0                                           0.0   \n",
       "1                                           0.0   \n",
       "2                                           0.0   \n",
       "3                                           0.0   \n",
       "4                                           NaN   \n",
       "\n",
       "   % of tenant households spending 30% or more of its income on shelter costs  \\\n",
       "0                                                0.0                            \n",
       "1                                                0.0                            \n",
       "2                                                0.0                            \n",
       "3                                                0.0                            \n",
       "4                                                NaN                            \n",
       "\n",
       "   0 Legislative and senior management occupations  0 to 14 years  \\\n",
       "0                                              0.0           90.0   \n",
       "1                                              0.0           90.0   \n",
       "2                                              0.0           80.0   \n",
       "3                                              0.0          180.0   \n",
       "4                                              0.0           45.0   \n",
       "\n",
       "   0 to 17 years  0 to 17 years (%)  ...  \\\n",
       "0          110.0               10.0  ...   \n",
       "1          100.0               16.0  ...   \n",
       "2          100.0               14.0  ...   \n",
       "3          225.0               15.0  ...   \n",
       "4           50.0                NaN  ...   \n",
       "\n",
       "   Total - Visible minority for the population in private households - 25% sample data  \\\n",
       "0                                              875.0                                     \n",
       "1                                              745.0                                     \n",
       "2                                              695.0                                     \n",
       "3                                             1935.0                                     \n",
       "4                                              275.0                                     \n",
       "\n",
       "   Total number of census families in private households - 100% data  \\\n",
       "0                                              255.0                   \n",
       "1                                              250.0                   \n",
       "2                                              225.0                   \n",
       "3                                              630.0                   \n",
       "4                                               85.0                   \n",
       "\n",
       "   Total visible minority population  Two-maintainer household  \\\n",
       "0                                0.0                     200.0   \n",
       "1                                0.0                     190.0   \n",
       "2                                0.0                     150.0   \n",
       "3                               10.0                     390.0   \n",
       "4                                0.0                      50.0   \n",
       "\n",
       "   Two-or-more-person non-census-family households  Under 5 years  Unemployed  \\\n",
       "0                                             15.0           10.0        40.0   \n",
       "1                                             10.0            0.0        70.0   \n",
       "2                                              5.0            0.0        75.0   \n",
       "3                                             30.0            0.0       195.0   \n",
       "4                                              0.0            0.0        50.0   \n",
       "\n",
       "   Unemployment rate  With employment income  Without employment income  \n",
       "0                9.6                   460.0                      265.0  \n",
       "1               20.9                   400.0                      265.0  \n",
       "2               20.8                   380.0                      235.0  \n",
       "3               21.3                  1000.0                      760.0  \n",
       "4               43.5                   160.0                       70.0  \n",
       "\n",
       "[5 rows x 263 columns]"
      ]
     },
     "execution_count": 148,
     "metadata": {},
     "output_type": "execute_result"
    }
   ],
   "source": [
    "census2021.head()"
   ]
  },
  {
   "cell_type": "code",
   "execution_count": 149,
   "metadata": {},
   "outputs": [
    {
     "data": {
      "text/html": [
       "<div>\n",
       "<style scoped>\n",
       "    .dataframe tbody tr th:only-of-type {\n",
       "        vertical-align: middle;\n",
       "    }\n",
       "\n",
       "    .dataframe tbody tr th {\n",
       "        vertical-align: top;\n",
       "    }\n",
       "\n",
       "    .dataframe thead th {\n",
       "        text-align: right;\n",
       "    }\n",
       "</style>\n",
       "<table border=\"1\" class=\"dataframe\">\n",
       "  <thead>\n",
       "    <tr style=\"text-align: right;\">\n",
       "      <th></th>\n",
       "      <th>Unnamed: 0</th>\n",
       "      <th>Node Connectivity</th>\n",
       "      <th>Betweenness Centrality</th>\n",
       "      <th>Average Node Degree</th>\n",
       "      <th>Top 10% BC</th>\n",
       "    </tr>\n",
       "  </thead>\n",
       "  <tbody>\n",
       "    <tr>\n",
       "      <th>0</th>\n",
       "      <td>Aberdeen</td>\n",
       "      <td>1</td>\n",
       "      <td>{1638571580: 0.0, 1638571707: 0.02531645569620...</td>\n",
       "      <td>4.550000</td>\n",
       "      <td>0.505883</td>\n",
       "    </tr>\n",
       "    <tr>\n",
       "      <th>1</th>\n",
       "      <td>Acadieville</td>\n",
       "      <td>1</td>\n",
       "      <td>{1665424050: 0.0, 1665425717: 0.0, 1665427309:...</td>\n",
       "      <td>4.203390</td>\n",
       "      <td>0.506352</td>\n",
       "    </tr>\n",
       "    <tr>\n",
       "      <th>2</th>\n",
       "      <td>Addington</td>\n",
       "      <td>0</td>\n",
       "      <td>{604124914: 0.1076792705080486, 1020806170: 0....</td>\n",
       "      <td>5.054902</td>\n",
       "      <td>0.162141</td>\n",
       "    </tr>\n",
       "    <tr>\n",
       "      <th>3</th>\n",
       "      <td>Alma</td>\n",
       "      <td>1</td>\n",
       "      <td>{16878195: 0.4796404019037546, 857586389: 0.20...</td>\n",
       "      <td>4.063492</td>\n",
       "      <td>0.469240</td>\n",
       "    </tr>\n",
       "    <tr>\n",
       "      <th>4</th>\n",
       "      <td>Alnwick</td>\n",
       "      <td>1</td>\n",
       "      <td>{1729459293: 0.0, 1729460255: 0.01059597042722...</td>\n",
       "      <td>4.518519</td>\n",
       "      <td>0.281422</td>\n",
       "    </tr>\n",
       "  </tbody>\n",
       "</table>\n",
       "</div>"
      ],
      "text/plain": [
       "    Unnamed: 0  Node Connectivity  \\\n",
       "0     Aberdeen                  1   \n",
       "1  Acadieville                  1   \n",
       "2    Addington                  0   \n",
       "3         Alma                  1   \n",
       "4      Alnwick                  1   \n",
       "\n",
       "                              Betweenness Centrality  Average Node Degree  \\\n",
       "0  {1638571580: 0.0, 1638571707: 0.02531645569620...             4.550000   \n",
       "1  {1665424050: 0.0, 1665425717: 0.0, 1665427309:...             4.203390   \n",
       "2  {604124914: 0.1076792705080486, 1020806170: 0....             5.054902   \n",
       "3  {16878195: 0.4796404019037546, 857586389: 0.20...             4.063492   \n",
       "4  {1729459293: 0.0, 1729460255: 0.01059597042722...             4.518519   \n",
       "\n",
       "   Top 10% BC  \n",
       "0    0.505883  \n",
       "1    0.506352  \n",
       "2    0.162141  \n",
       "3    0.469240  \n",
       "4    0.281422  "
      ]
     },
     "execution_count": 149,
     "metadata": {},
     "output_type": "execute_result"
    }
   ],
   "source": [
    "networks.head()"
   ]
  },
  {
   "cell_type": "code",
   "execution_count": 150,
   "metadata": {},
   "outputs": [
    {
     "name": "stdout",
     "output_type": "stream",
     "text": [
      "<class 'pandas.core.frame.DataFrame'>\n",
      "Index: 218 entries, 0 to 228\n",
      "Columns: 263 entries, GEO_NAME to Without employment income\n",
      "dtypes: float64(262), object(1)\n",
      "memory usage: 449.6+ KB\n"
     ]
    }
   ],
   "source": [
    "# Note that the counts are different on our datasets. Let's take a subset of the 2021 data that matches \n",
    "# the communities in the 2016 data. Note that community name is 'GEO_NAME' in both datasets.\n",
    "trimmed2021 = census2021[census2021['GEO_NAME'].isin(census2016['GEO_NAME'])]\n",
    "trimmed2021.info()\n"
   ]
  },
  {
   "cell_type": "code",
   "execution_count": 151,
   "metadata": {},
   "outputs": [
    {
     "name": "stdout",
     "output_type": "stream",
     "text": [
      "218\n"
     ]
    }
   ],
   "source": [
    "# We have more entries here than in the `2016 data. Let's count the unique values\n",
    "print(len(trimmed2021['GEO_NAME'].unique()))"
   ]
  },
  {
   "cell_type": "code",
   "execution_count": 152,
   "metadata": {},
   "outputs": [
    {
     "name": "stdout",
     "output_type": "stream",
     "text": [
      "234\n"
     ]
    }
   ],
   "source": [
    "# Lots of duplicates there. Let's check the 2016 data as well\n",
    "print(len(census2016['GEO_NAME'].unique()))"
   ]
  },
  {
   "cell_type": "code",
   "execution_count": 153,
   "metadata": {},
   "outputs": [],
   "source": [
    "# Now let's trim the 2016 data to only include what has a match in our trimmed 2021 data\n",
    "trimmed2016 = census2016[census2016['GEO_NAME'].isin(trimmed2021['GEO_NAME'])]\n",
    "trimmed2016.shape\n",
    "\n",
    "# As a last step before we are done, we need to sort the dataframes by the community name so that the\n",
    "# data is in the same order for both datasets\n",
    "trimmed2016 = trimmed2016.sort_values(by='GEO_NAME')\n",
    "trimmed2021 = trimmed2021.sort_values(by='GEO_NAME')\n"
   ]
  },
  {
   "cell_type": "code",
   "execution_count": 154,
   "metadata": {},
   "outputs": [],
   "source": [
    "# Now we can train our model. We will use the 2016 data as our X values and the 2021 data as our y values.\n",
    "from sklearn.model_selection import train_test_split\n",
    "\n",
    "X = trimmed2016.drop(columns=['GEO_NAME'])\n",
    "y = trimmed2021['Population, 2021']\n",
    "\n",
    "# Split the training data into training and validation sets\n",
    "XTrain, XVal, yTrain, yVal = train_test_split(X, y, train_size = 0.75, test_size=0.25, random_state=42)"
   ]
  },
  {
   "cell_type": "code",
   "execution_count": 155,
   "metadata": {},
   "outputs": [],
   "source": [
    "# We will use a pipeline to preprocess our data\n",
    "# All features here are numeric, so we will use a simple imputer to fill in missing values\n",
    "# and a standard scaler to scale the data\n",
    "numericTransformer = Pipeline(steps=[\n",
    "    ('imputer', SimpleImputer(strategy='most_frequent')), # Using most frequent to avoid outliers skewing the data\n",
    "    ('scaler', StandardScaler())\n",
    "])\n",
    "\n",
    "# Setting up the preprocessor\n",
    "preprocessor = ColumnTransformer(\n",
    "    transformers=[\n",
    "        ('num', numericTransformer, X.columns)\n",
    "    ]\n",
    ")"
   ]
  },
  {
   "cell_type": "code",
   "execution_count": 156,
   "metadata": {},
   "outputs": [],
   "source": [
    "# Now we can set up our model\n",
    "# We'll use a random forest regressor\n",
    "numberOfTrees = 100\n",
    "regressor = RandomForestRegressor(n_estimators=numberOfTrees, random_state=42)\n",
    "model = Pipeline(steps=[\n",
    "    ('preprocessor', preprocessor),\n",
    "    ('regressor', regressor)\n",
    "])\n"
   ]
  },
  {
   "cell_type": "code",
   "execution_count": 157,
   "metadata": {},
   "outputs": [],
   "source": [
    "# Train the model\n",
    "model.fit(XTrain, yTrain)\n",
    "None"
   ]
  },
  {
   "cell_type": "code",
   "execution_count": 158,
   "metadata": {},
   "outputs": [
    {
     "name": "stdout",
     "output_type": "stream",
     "text": [
      "Validation RMSE: 55.950748401400496\n",
      "Validation R^2: 0.8923172752879682\n"
     ]
    },
    {
     "name": "stderr",
     "output_type": "stream",
     "text": [
      "c:\\Users\\danes\\Documents\\ACENETMicrocredentialinAdvancedComputing\\ISP\\CommunityGrowthPrediction\\ispEnv\\lib\\site-packages\\sklearn\\metrics\\_regression.py:492: FutureWarning: 'squared' is deprecated in version 1.4 and will be removed in 1.6. To calculate the root mean squared error, use the function'root_mean_squared_error'.\n",
      "  warnings.warn(\n"
     ]
    }
   ],
   "source": [
    "# Predict our values\n",
    "yPred = model.predict(XVal)\n",
    "\n",
    "# Calculate the root mean squared error\n",
    "valRmse = np.sqrt(mean_squared_error(yVal, yPred, squared=False))\n",
    "# Calculate the R^2 value\n",
    "valR2 = r2_score(yVal, yPred)\n",
    "\n",
    "print(f'Validation RMSE: {valRmse}')\n",
    "print(f'Validation R^2: {valR2}')\n"
   ]
  },
  {
   "cell_type": "code",
   "execution_count": 159,
   "metadata": {},
   "outputs": [
    {
     "name": "stdout",
     "output_type": "stream",
     "text": [
      "Mean of validation set: 2562\n",
      "Validation RMSE as a percentage of the mean: 2.18%\n"
     ]
    }
   ],
   "source": [
    "# R^2 and RMSE both look good, but let's compare with the mean of the training data\n",
    "print(f'Mean of validation set: {round(yTrain.mean())}')\n",
    "print(f'Validation RMSE as a percentage of the mean: {round(valRmse / yTrain.mean() * 100, 2)}%')\n"
   ]
  },
  {
   "cell_type": "code",
   "execution_count": 160,
   "metadata": {},
   "outputs": [
    {
     "data": {
      "image/png": "[encoded data removed]",
      "text/plain": [
       "<Figure size 640x480 with 1 Axes>"
      ]
     },
     "metadata": {},
     "output_type": "display_data"
    }
   ],
   "source": [
    "# Let's plot the predicted vs actual values\n",
    "plt.scatter(yVal, yPred)\n",
    "# Add a line for perfect correlation\n",
    "plt.plot([y.min(), y.max()], [y.min(), y.max()],  '--', color='red')\n",
    "plt.xlabel('Actual Population')\n",
    "plt.ylabel('Predicted Population')\n",
    "plt.title('Predicted vs Actual Population')\n",
    "\n",
    "# As with the other plots, let's save things to our figures folder\n",
    "plt.savefig(f'./figures/predicting_vs_actual_census_only_{dataSetName}.png')\n"
   ]
  },
  {
   "cell_type": "code",
   "execution_count": 161,
   "metadata": {},
   "outputs": [
    {
     "data": {
      "image/png": "[encoded data removed]",
      "text/plain": [
       "<Figure size 1500x500 with 3 Axes>"
      ]
     },
     "metadata": {},
     "output_type": "display_data"
    }
   ],
   "source": [
    "# Let's also plot the 2016 distribution, the predicted distribution, and the actual distribution\n",
    "# as a set of subplots.\n",
    "# This will let us see how the communities changed over time\n",
    "fig, axs = plt.subplots(1, 3, figsize=(15, 5))\n",
    "dataSets = [yTrain, yPred, yVal]\n",
    "titles = ['2016 Population', 'Predicted 2021 Population', 'Actual 2021 Population']\n",
    "for i in range(3):\n",
    "    axs[i].hist(dataSets[i], bins=20)\n",
    "    axs[i].set_title(titles[i])\n",
    "    axs[i].set_xlabel('Population')\n",
    "    axs[i].set_ylabel('Count')\n",
    "\n",
    "# Let's save the plot in our figures folder\n",
    "plt.savefig(f'./figures/predictions_census_only_{dataSetName}.png')\n",
    "\n"
   ]
  },
  {
   "cell_type": "code",
   "execution_count": 162,
   "metadata": {},
   "outputs": [
    {
     "name": "stdout",
     "output_type": "stream",
     "text": [
      "[2.56712987e-02 2.56156087e-02 2.24720238e-02 2.16973256e-02\n",
      " 2.10687041e-02 2.03687684e-02 1.93480942e-02 1.72042437e-02\n",
      " 1.70930933e-02 1.68347003e-02 1.65033176e-02 1.64755781e-02\n",
      " 1.59778970e-02 1.59015176e-02 1.57074675e-02 1.53786233e-02\n",
      " 1.52297373e-02 1.51137298e-02 1.46679858e-02 1.38119106e-02\n",
      " 1.37478423e-02 1.37435416e-02 1.36482178e-02 1.33476169e-02\n",
      " 1.19968939e-02 1.15383180e-02 1.13965654e-02 1.10869273e-02\n",
      " 1.05931636e-02 1.05541810e-02 9.84026133e-03 9.82294867e-03\n",
      " 9.62377424e-03 9.56314885e-03 9.48591098e-03 9.39586103e-03\n",
      " 9.30982168e-03 9.29763738e-03 9.26126688e-03 9.24203390e-03\n",
      " 9.14402360e-03 9.04497787e-03 9.04014919e-03 9.00967383e-03\n",
      " 8.86185204e-03 8.59195029e-03 8.58610851e-03 8.57501765e-03\n",
      " 8.57084464e-03 8.56020515e-03 8.52422250e-03 8.52215303e-03\n",
      " 8.45539667e-03 8.34941099e-03 8.34852259e-03 8.31114345e-03\n",
      " 8.28636981e-03 8.24528664e-03 8.03769595e-03 7.97838117e-03\n",
      " 7.94371721e-03 7.94032644e-03 7.75141410e-03 7.73767649e-03\n",
      " 7.62493616e-03 7.58978048e-03 7.16913819e-03 7.09492225e-03\n",
      " 7.06648441e-03 6.89745235e-03 6.84155126e-03 6.81456771e-03\n",
      " 6.80064506e-03 6.32423534e-03 6.28253334e-03 5.68311322e-03\n",
      " 5.49279219e-03 5.38744558e-03 5.00663992e-03 4.97503588e-03\n",
      " 4.68188916e-03 4.36641399e-03 4.29805964e-03 4.23604470e-03\n",
      " 4.14165466e-03 4.07749736e-03 3.73610108e-03 3.54377294e-03\n",
      " 3.52271798e-03 3.44980167e-03 3.26983227e-03 3.16059705e-03\n",
      " 3.09373372e-03 3.06571372e-03 2.86818469e-03 2.71532245e-03\n",
      " 2.55062778e-03 2.43199030e-03 2.40643263e-03 2.33804097e-03\n",
      " 2.33148908e-03 2.08738916e-03 2.05994380e-03 1.91457949e-03\n",
      " 1.67332465e-03 1.66516676e-03 1.63945698e-03 1.63214571e-03\n",
      " 1.62642342e-03 1.55744095e-03 1.54157366e-03 1.39064681e-03\n",
      " 1.29049812e-03 1.28253083e-03 1.26049650e-03 1.24782866e-03\n",
      " 1.22982493e-03 1.18125048e-03 1.15504492e-03 1.05578208e-03\n",
      " 1.03541661e-03 1.02393580e-03 8.51742406e-04 8.48606109e-04\n",
      " 7.84145036e-04 7.73846494e-04 7.59212930e-04 6.97468083e-04\n",
      " 6.40598122e-04 6.24221747e-04 5.50608728e-04 5.30213645e-04\n",
      " 5.30172923e-04 5.18062696e-04 5.06979544e-04 4.71359339e-04\n",
      " 4.56304257e-04 4.28234155e-04 4.24016532e-04 4.21433601e-04\n",
      " 3.83805673e-04 2.92345003e-04 2.64138996e-04 2.58859529e-04\n",
      " 2.54328624e-04 2.47621755e-04 2.43374034e-04 2.10487220e-04\n",
      " 2.04306157e-04 1.84016107e-04 1.69198070e-04 1.52741836e-04\n",
      " 1.52080312e-04 1.39372403e-04 1.32485955e-04 1.20160500e-04\n",
      " 1.07026111e-04 6.84728722e-05 6.29096594e-05 5.34634254e-05\n",
      " 5.24873338e-05 4.84051783e-05 4.46428575e-05 4.01445692e-05\n",
      " 3.14563328e-05 3.13052392e-05 2.40003147e-05 2.18368681e-05\n",
      " 2.16295277e-05 1.83083201e-05 1.49877209e-05 1.47801966e-05\n",
      " 1.44936087e-05 1.18276687e-05 1.15281691e-05 1.12626186e-05\n",
      " 1.05762719e-05 8.54896107e-06 8.54856762e-06 8.49535491e-06\n",
      " 6.82014918e-06 6.57320721e-06 5.64288075e-06 5.45363501e-06\n",
      " 5.09285422e-06 4.90095180e-06 4.86629720e-06 4.69952035e-06\n",
      " 3.95746706e-06 3.76456127e-06 3.48265808e-06 3.34897620e-06\n",
      " 3.22251947e-06 3.20849159e-06 3.03837751e-06 2.55822813e-06\n",
      " 2.36579220e-06 2.20437251e-06 2.19841447e-06 2.04290503e-06\n",
      " 1.72226775e-06 1.56562848e-06 1.41137423e-06 1.39499125e-06\n",
      " 1.23719233e-06 1.21137221e-06 1.04312106e-06 6.62981350e-07\n",
      " 4.99009915e-07 1.50639008e-07 3.20341411e-09 0.00000000e+00\n",
      " 0.00000000e+00]\n"
     ]
    }
   ],
   "source": [
    "# To explore the data further, let's look at the feature importances\n",
    "importances = model.named_steps['regressor'].feature_importances_\n",
    "features = X.columns\n",
    "indices = np.argsort(importances)[::-1]\n",
    "print(importances[indices])"
   ]
  },
  {
   "cell_type": "code",
   "execution_count": 173,
   "metadata": {},
   "outputs": [
    {
     "name": "stdout",
     "output_type": "stream",
     "text": [
      "Most important features:\n",
      "Total - Income statistics in 2015 for two-or-more-person private households - 100% data: 0.025671298678095193\n",
      "Total - Private households by number of persons per room - 25% sample data: 0.025615608654562846\n",
      "30 to 34 years: 0.02247202384018464\n",
      "One-census-family households: 0.021697325566080082\n",
      "Total - Income statistics in 2015 for economic families in private households - 25% sample data: 0.021068704114675114\n",
      "40 to 44 years: 0.020368768357102534\n",
      "Population, 2011: 0.019348094232931937\n",
      "Total - Population by Registered or Treaty Indian status for the population in private households - 25% sample data: 0.017204243734117716\n",
      "Number of after-tax income recipients aged 15 years and over in private households - 25% sample data: 0.017093093339896056\n",
      "Total - Citizenship for the population in private households - 25% sample data: 0.016834700349531214\n"
     ]
    },
    {
     "data": {
      "image/png": "[encoded data removed]",
      "text/plain": [
       "<Figure size 1000x500 with 1 Axes>"
      ]
     },
     "metadata": {},
     "output_type": "display_data"
    }
   ],
   "source": [
    "# Nothing stands out as any obvious high-importance outliers, but let's plot the importances\n",
    "plt.figure(figsize=(10, 5))\n",
    "plt.bar(range(X.shape[1]), importances[indices])\n",
    "plt.title(f'Distribution of Feature Importances, {dataSetName}')\n",
    "plt.ylabel('Importance')\n",
    "plt.xlabel('Feature')\n",
    "plt.savefig(f'./figures/feature_importances_{dataSetName}.png')\n",
    "\n",
    "# Let's have a look at the 10 most important features\n",
    "print('Most important features:')\n",
    "for i in range(10):\n",
    "    print(f'{features[indices[i]]}: {importances[indices[i]]}')\n"
   ]
  },
  {
   "cell_type": "code",
   "execution_count": 164,
   "metadata": {},
   "outputs": [
    {
     "data": {
      "text/html": [
       "<div>\n",
       "<style scoped>\n",
       "    .dataframe tbody tr th:only-of-type {\n",
       "        vertical-align: middle;\n",
       "    }\n",
       "\n",
       "    .dataframe tbody tr th {\n",
       "        vertical-align: top;\n",
       "    }\n",
       "\n",
       "    .dataframe thead th {\n",
       "        text-align: right;\n",
       "    }\n",
       "</style>\n",
       "<table border=\"1\" class=\"dataframe\">\n",
       "  <thead>\n",
       "    <tr style=\"text-align: right;\">\n",
       "      <th></th>\n",
       "      <th>Unnamed: 0</th>\n",
       "      <th>Node Connectivity</th>\n",
       "      <th>Betweenness Centrality</th>\n",
       "      <th>Average Node Degree</th>\n",
       "      <th>Top 10% BC</th>\n",
       "    </tr>\n",
       "  </thead>\n",
       "  <tbody>\n",
       "    <tr>\n",
       "      <th>0</th>\n",
       "      <td>Aberdeen</td>\n",
       "      <td>1</td>\n",
       "      <td>{1638571580: 0.0, 1638571707: 0.02531645569620...</td>\n",
       "      <td>4.550000</td>\n",
       "      <td>0.505883</td>\n",
       "    </tr>\n",
       "    <tr>\n",
       "      <th>1</th>\n",
       "      <td>Acadieville</td>\n",
       "      <td>1</td>\n",
       "      <td>{1665424050: 0.0, 1665425717: 0.0, 1665427309:...</td>\n",
       "      <td>4.203390</td>\n",
       "      <td>0.506352</td>\n",
       "    </tr>\n",
       "    <tr>\n",
       "      <th>2</th>\n",
       "      <td>Addington</td>\n",
       "      <td>0</td>\n",
       "      <td>{604124914: 0.1076792705080486, 1020806170: 0....</td>\n",
       "      <td>5.054902</td>\n",
       "      <td>0.162141</td>\n",
       "    </tr>\n",
       "    <tr>\n",
       "      <th>3</th>\n",
       "      <td>Alma</td>\n",
       "      <td>1</td>\n",
       "      <td>{16878195: 0.4796404019037546, 857586389: 0.20...</td>\n",
       "      <td>4.063492</td>\n",
       "      <td>0.469240</td>\n",
       "    </tr>\n",
       "    <tr>\n",
       "      <th>4</th>\n",
       "      <td>Alnwick</td>\n",
       "      <td>1</td>\n",
       "      <td>{1729459293: 0.0, 1729460255: 0.01059597042722...</td>\n",
       "      <td>4.518519</td>\n",
       "      <td>0.281422</td>\n",
       "    </tr>\n",
       "  </tbody>\n",
       "</table>\n",
       "</div>"
      ],
      "text/plain": [
       "    Unnamed: 0  Node Connectivity  \\\n",
       "0     Aberdeen                  1   \n",
       "1  Acadieville                  1   \n",
       "2    Addington                  0   \n",
       "3         Alma                  1   \n",
       "4      Alnwick                  1   \n",
       "\n",
       "                              Betweenness Centrality  Average Node Degree  \\\n",
       "0  {1638571580: 0.0, 1638571707: 0.02531645569620...             4.550000   \n",
       "1  {1665424050: 0.0, 1665425717: 0.0, 1665427309:...             4.203390   \n",
       "2  {604124914: 0.1076792705080486, 1020806170: 0....             5.054902   \n",
       "3  {16878195: 0.4796404019037546, 857586389: 0.20...             4.063492   \n",
       "4  {1729459293: 0.0, 1729460255: 0.01059597042722...             4.518519   \n",
       "\n",
       "   Top 10% BC  \n",
       "0    0.505883  \n",
       "1    0.506352  \n",
       "2    0.162141  \n",
       "3    0.469240  \n",
       "4    0.281422  "
      ]
     },
     "execution_count": 164,
     "metadata": {},
     "output_type": "execute_result"
    }
   ],
   "source": [
    "# Let's train our model using the road network data and the 2021 population targets\n",
    "# We imported the network data earlier, so we can use that directly\n",
    "networks.head()"
   ]
  },
  {
   "cell_type": "code",
   "execution_count": 165,
   "metadata": {},
   "outputs": [
    {
     "name": "stdout",
     "output_type": "stream",
     "text": [
      "(169, 5)\n",
      "(169, 263)\n",
      "(169, 263)\n",
      "(169, 5)\n"
     ]
    }
   ],
   "source": [
    "# First we will need to rename the first column, and match the community names to the appropriate 2021 data\n",
    "networks = networks.rename(columns={'Unnamed: 0': 'GEO_NAME'})\n",
    "trimmedNetworks = networks[networks['GEO_NAME'].isin(trimmed2021['GEO_NAME'])]\n",
    "\n",
    "# Next we will trim the 2021 data to match the trimmed networks community names\n",
    "populationForNetworks2021 = trimmed2021[trimmed2021['GEO_NAME'].isin(trimmedNetworks['GEO_NAME'])]\n",
    "print(trimmedNetworks.shape)\n",
    "print(populationForNetworks2021.shape)\n",
    "\n",
    "# And then we need to reorder, as we did when working with the census data\n",
    "populationForNetworks2021 = populationForNetworks2021.sort_values(by='GEO_NAME')\n",
    "trimmedNetworks = trimmedNetworks.sort_values(by='GEO_NAME')\n",
    "\n",
    "print(populationForNetworks2021.shape)\n",
    "print(trimmedNetworks.shape)\n",
    "\n"
   ]
  },
  {
   "cell_type": "code",
   "execution_count": 166,
   "metadata": {},
   "outputs": [],
   "source": [
    "# Now we can train our model. We will use the road network data as our X values and the 2021 data as our y values.\n",
    "# From the road networks, we will use Node Connectivity, average node degree, and top 10% BC\n",
    "XNetworks = trimmedNetworks.drop(columns=['GEO_NAME', 'Betweenness Centrality'])\n",
    "yNetworks = populationForNetworks2021['Population, 2021']\n",
    "\n",
    "# Split the training data into training and validation sets\n",
    "XTrainNetworks, XValNetworks, yTrainNetworks, yValNetworks = train_test_split(XNetworks, yNetworks, test_size=0.2, random_state=42)\n",
    "\n",
    "# We can use a similar pipeline to before, but we will need to define a new preprocessor for the network data\n",
    "numericTransformerNetworks = Pipeline(steps=[\n",
    "    ('imputer', SimpleImputer(strategy='most_frequent')),\n",
    "    ('scaler', StandardScaler())\n",
    "])\n",
    "\n",
    "preprocessorNetworks = ColumnTransformer(\n",
    "    transformers=[\n",
    "        ('num', numericTransformerNetworks, XNetworks.columns)\n",
    "    ]\n",
    ")\n",
    "\n",
    "# Now we can set up our model\n",
    "# We'll use a random forest regressor as before\n",
    "networkTrees = 100\n",
    "networkRegressor = RandomForestRegressor(n_estimators=networkTrees, random_state=42)\n",
    "networkModel = Pipeline(steps=[\n",
    "    ('preprocessor', preprocessorNetworks),\n",
    "    ('regressor', networkRegressor)\n",
    "])\n"
   ]
  },
  {
   "cell_type": "code",
   "execution_count": 167,
   "metadata": {},
   "outputs": [],
   "source": [
    "# Now we can train our model\n",
    "networkModel.fit(XTrainNetworks, yTrainNetworks)\n",
    "None"
   ]
  },
  {
   "cell_type": "code",
   "execution_count": 168,
   "metadata": {},
   "outputs": [
    {
     "name": "stdout",
     "output_type": "stream",
     "text": [
      "Validation RMSE: 73.7730245110908\n",
      "Validation R^2: 0.742467139591463\n"
     ]
    },
    {
     "name": "stderr",
     "output_type": "stream",
     "text": [
      "c:\\Users\\danes\\Documents\\ACENETMicrocredentialinAdvancedComputing\\ISP\\CommunityGrowthPrediction\\ispEnv\\lib\\site-packages\\sklearn\\metrics\\_regression.py:492: FutureWarning: 'squared' is deprecated in version 1.4 and will be removed in 1.6. To calculate the root mean squared error, use the function'root_mean_squared_error'.\n",
      "  warnings.warn(\n"
     ]
    }
   ],
   "source": [
    "# Predict our values\n",
    "yPredNetworks = networkModel.predict(XValNetworks)\n",
    "\n",
    "# Calculate the root mean squared error\n",
    "valRmseNetworks = np.sqrt(mean_squared_error(yValNetworks, yPredNetworks, squared=False))\n",
    "# Calculate the R^2 value\n",
    "valR2Networks = r2_score(yValNetworks, yPredNetworks)\n",
    "\n",
    "print(f'Validation RMSE: {valRmseNetworks}')\n",
    "print(f'Validation R^2: {valR2Networks}')"
   ]
  },
  {
   "cell_type": "code",
   "execution_count": 169,
   "metadata": {},
   "outputs": [
    {
     "name": "stdout",
     "output_type": "stream",
     "text": [
      "Mean of validation set: 2829\n",
      "Validation RMSE as a percentage of the mean: 2.61%\n"
     ]
    },
    {
     "data": {
      "image/png": "[encoded data removed]",
      "text/plain": [
       "<Figure size 640x480 with 1 Axes>"
      ]
     },
     "metadata": {},
     "output_type": "display_data"
    }
   ],
   "source": [
    "# Again, let's compare with the mean of the training data\n",
    "print(f'Mean of validation set: {round(yTrainNetworks.mean())}')\n",
    "print(f'Validation RMSE as a percentage of the mean: {round(valRmseNetworks / yTrainNetworks.mean() * 100, 2)}%')\n",
    "\n",
    "# Let's plot the predicted vs actual values\n",
    "plt.scatter(yValNetworks, yPredNetworks)\n",
    "# Add a line for perfect correlation\n",
    "plt.plot([yValNetworks.min(), yValNetworks.max()], [yValNetworks.min(), yValNetworks.max()],  '--', color='red')\n",
    "plt.xlabel('Actual Population')\n",
    "plt.ylabel('Predicted Population')\n",
    "plt.title('Predicted vs Actual Population')\n",
    "plt.savefig('./figures/predicting_vs_actual_networks_only.png')"
   ]
  },
  {
   "cell_type": "code",
   "execution_count": 170,
   "metadata": {},
   "outputs": [],
   "source": [
    "# Next, let's update the 2016 dataset with our road network values and train again.\n",
    "# To get a proper comparison, we will need to compare only the communities that are present in the road network data\n",
    "trimmed2016Networks = trimmed2016[trimmed2016['GEO_NAME'].isin(trimmedNetworks['GEO_NAME'])]"
   ]
  },
  {
   "cell_type": "code",
   "execution_count": 182,
   "metadata": {},
   "outputs": [
    {
     "name": "stdout",
     "output_type": "stream",
     "text": [
      "Validation RMSE: 44.45609947828854\n",
      "Validation R^2: 0.9660399971016431\n"
     ]
    },
    {
     "name": "stderr",
     "output_type": "stream",
     "text": [
      "c:\\Users\\danes\\Documents\\ACENETMicrocredentialinAdvancedComputing\\ISP\\CommunityGrowthPrediction\\ispEnv\\lib\\site-packages\\sklearn\\metrics\\_regression.py:492: FutureWarning: 'squared' is deprecated in version 1.4 and will be removed in 1.6. To calculate the root mean squared error, use the function'root_mean_squared_error'.\n",
      "  warnings.warn(\n"
     ]
    }
   ],
   "source": [
    "# Let's train a model with the same parameters as we did in the initial census training\n",
    "Xtrim = trimmed2016Networks.drop(columns=['GEO_NAME'])\n",
    "ytrim = trimmed2021[trimmed2021['GEO_NAME'].isin(trimmed2016Networks['GEO_NAME'])]['Population, 2021']\n",
    "\n",
    "# Split the training data into training and validation sets\n",
    "XTrainTrim, XValTrim, yTrainTrim, yValTrim = train_test_split(Xtrim, ytrim, test_size=0.2, random_state=42)\n",
    "\n",
    "# We can use the same preprocessor and regressor as before\n",
    "trimModel = Pipeline(steps=[\n",
    "    ('preprocessor', preprocessor),\n",
    "    ('regressor', regressor)\n",
    "])\n",
    "\n",
    "# Now we can train our model\n",
    "trimModel.fit(XTrainTrim, yTrainTrim)\n",
    "\n",
    "# Predict our values\n",
    "yPredTrim = trimModel.predict(XValTrim)\n",
    "\n",
    "# Calculate our statistics\n",
    "valRmseTrim = np.sqrt(mean_squared_error(yValTrim, yPredTrim, squared=False))\n",
    "valR2Trim = r2_score(yValTrim, yPredTrim)\n",
    "\n",
    "print(f'Validation RMSE: {valRmseTrim}')\n",
    "print(f'Validation R^2: {valR2Trim}')"
   ]
  },
  {
   "cell_type": "code",
   "execution_count": 201,
   "metadata": {},
   "outputs": [
    {
     "data": {
      "image/png": "[encoded data removed]",
      "text/plain": [
       "<Figure size 1000x500 with 1 Axes>"
      ]
     },
     "metadata": {},
     "output_type": "display_data"
    },
    {
     "name": "stdout",
     "output_type": "stream",
     "text": [
      "Most important features:\n",
      "30 to 34 years: 0.03374329274856809\n",
      "Total - Income statistics in 2015 for two-or-more-person private households - 100% data: 0.02500656871211732\n",
      "Total - Private households by number of persons per room - 25% sample data: 0.024248900735426248\n",
      "75 to 84 years: 0.021654412125556667\n",
      "In the second decile: 0.021158151074660566\n",
      "One-census-family households: 0.020061179143394572\n",
      "Total - Major field of study - Classification of Instructional Programs (CIP) 2016 for the population aged 25 to 64 years in private households - 25% sample data: 0.019046521064305162\n",
      "Number of persons in private households: 0.0187448190685459\n",
      "Total - Citizenship for the population in private households - 25% sample data: 0.01847825906984124\n",
      "Total - Aboriginal ancestry for the population in private households - 25% sample data: 0.017156472828637817\n",
      "['30 to 34 years', 'Total - Income statistics in 2015 for two-or-more-person private households - 100% data', 'Total - Private households by number of persons per room - 25% sample data', '75 to 84 years', 'In the second decile']\n"
     ]
    }
   ],
   "source": [
    "# Let's also extract the 10 most important features\n",
    "importancesTrim = trimModel.named_steps['regressor'].feature_importances_\n",
    "featuresTrim = Xtrim.columns\n",
    "indicesTrim = np.argsort(importancesTrim)[::-1]\n",
    "\n",
    "# Let's plot the importances\n",
    "plt.figure(figsize=(10, 5))\n",
    "plt.bar(range(Xtrim.shape[1]), importancesTrim[indicesTrim])\n",
    "plt.title('Distribution of Feature Importances, Trimmed Data for Unified Model')\n",
    "plt.ylabel('Importance')\n",
    "plt.xlabel('Feature')\n",
    "# plt.savefig('./figures/feature_importances_trimmed.png')\n",
    "plt.show()\n",
    "\n",
    "# Print\n",
    "print('Most important features:')\n",
    "for i in range(10):\n",
    "    print(f'{featuresTrim[indicesTrim[i]]}: {importancesTrim[indicesTrim[i]]}')\n",
    "\n",
    "# We'll also save the top 5 features here as a list for later reference\n",
    "baselineTopFive = list(featuresTrim[indicesTrim[:5]])"
   ]
  },
  {
   "cell_type": "code",
   "execution_count": 185,
   "metadata": {},
   "outputs": [],
   "source": [
    "# Now we can assemble the dataset for the final test: census + road network\n",
    "unifiedData = pd.merge(trimmed2016Networks, trimmedNetworks, on='GEO_NAME')\n",
    "XUnified = unifiedData.drop(columns=['GEO_NAME', 'Betweenness Centrality'])\n",
    "yUnified = populationForNetworks2021['Population, 2021']\n",
    "\n",
    "# Split the training data into training and validation sets\n",
    "XTrainUnified, XValUnified, yTrainUnified, yValUnified = train_test_split(XUnified, yUnified, test_size=0.2, random_state=42)\n",
    "\n",
    "# Let's define a new preprocessor for the unified data\n",
    "unifiedTransformer = Pipeline(steps=[\n",
    "    ('imputer', SimpleImputer(strategy='most_frequent')),\n",
    "    ('scaler', StandardScaler())\n",
    "])\n",
    "\n",
    "unifiedPreprocessor = ColumnTransformer(\n",
    "    transformers=[\n",
    "        ('num', unifiedTransformer, XUnified.columns)\n",
    "    ]\n",
    ")\n",
    "\n",
    "# Now we can set up our model\n",
    "# We'll use a random forest regressor as before\n",
    "unifiedTrees = 100\n",
    "unifiedRegressor = RandomForestRegressor(n_estimators=networkTrees, random_state=42)\n",
    "unifiedModel = Pipeline(steps=[\n",
    "    ('preprocessor', unifiedPreprocessor),\n",
    "    ('regressor', unifiedRegressor)\n",
    "])\n",
    "\n",
    "# Train the model\n",
    "unifiedModel.fit(XTrainUnified, yTrainUnified)\n",
    "None"
   ]
  },
  {
   "cell_type": "code",
   "execution_count": 186,
   "metadata": {},
   "outputs": [
    {
     "name": "stdout",
     "output_type": "stream",
     "text": [
      "Validation RMSE: 46.983644398439154\n",
      "Validation R^2: 0.9576328647070957\n"
     ]
    },
    {
     "name": "stderr",
     "output_type": "stream",
     "text": [
      "c:\\Users\\danes\\Documents\\ACENETMicrocredentialinAdvancedComputing\\ISP\\CommunityGrowthPrediction\\ispEnv\\lib\\site-packages\\sklearn\\metrics\\_regression.py:492: FutureWarning: 'squared' is deprecated in version 1.4 and will be removed in 1.6. To calculate the root mean squared error, use the function'root_mean_squared_error'.\n",
      "  warnings.warn(\n"
     ]
    },
    {
     "data": {
      "image/png": "[encoded data removed]",
      "text/plain": [
       "<Figure size 640x480 with 1 Axes>"
      ]
     },
     "metadata": {},
     "output_type": "display_data"
    }
   ],
   "source": [
    "# Now we can do our final prediction\n",
    "yPredUnified = unifiedModel.predict(XValUnified)\n",
    "\n",
    "# Once again, we will get the statistics and plot the predicted vs actual values\n",
    "valRmseUnified = np.sqrt(mean_squared_error(yValUnified, yPredUnified, squared=False))\n",
    "valR2Unified = r2_score(yValUnified, yPredUnified)\n",
    "\n",
    "print(f'Validation RMSE: {valRmseUnified}')\n",
    "print(f'Validation R^2: {valR2Unified}')\n",
    "\n",
    "# Let's plot the predicted vs actual values\n",
    "plt.scatter(yValUnified, yPredUnified)\n",
    "# Add a line for perfect correlation\n",
    "plt.plot([yValUnified.min(), yValUnified.max()], [yValUnified.min(), yValUnified.max()],  '--', color='red')\n",
    "plt.xlabel('Actual Population')\n",
    "plt.ylabel('Predicted Population')\n",
    "plt.title('Predicted vs Actual Population')\n",
    "plt.savefig(f'./figures/predicting_vs_actual_unified_{dataSetName}.png')\n"
   ]
  },
  {
   "cell_type": "code",
   "execution_count": 187,
   "metadata": {},
   "outputs": [
    {
     "name": "stdout",
     "output_type": "stream",
     "text": [
      "Total - Other language(s) spoken regularly at home for the total population excluding institutional residents - 100% data: 0.03533898722987704\n",
      "Total - Highest certificate, diploma or degree for the population aged 25 to 64 years in private households - 25% sample data: 0.025540847307090494\n",
      "Number of market income recipients aged 15 years and over in private households - 25% sample data: 0.024798405341258847\n",
      "Number of after-tax income recipients aged 15 years and over in private households - 25% sample data: 0.023289180500977086\n",
      "Total - Income statistics in 2015 for economic families in private households - 100% data: 0.022768487314924996\n",
      "18 to 64 years: 0.02030820596925015\n",
      "All industry categories: 0.020054243338278162\n",
      "In the fourth decile: 0.018601882269849494\n",
      "75 to 79 years: 0.01805754452061356\n",
      "Number of after-tax income recipients aged 15 years and over in private households - 100% data: 0.01697566308080546\n"
     ]
    }
   ],
   "source": [
    "# Once again, we will look at the top 10 most important features\n",
    "importancesUnified = unifiedModel.named_steps['regressor'].feature_importances_\n",
    "featuresUnified = XUnified.columns\n",
    "indicesUnified = np.argsort(importancesUnified)[::-1]\n",
    "\n",
    "# This time, we will only look at the top 10 features\n",
    "for i in range(10):\n",
    "    print(f'{featuresUnified[indicesUnified[i]]}: {importancesUnified[indicesUnified[i]]}')"
   ]
  },
  {
   "cell_type": "code",
   "execution_count": 217,
   "metadata": {},
   "outputs": [],
   "source": [
    "# It's interesting to note that the top 10 features here are different, when we've only added three columns.\n",
    "# As an experiment, let's do one more iteration. We will further trim the data set to contain \n",
    "# only the original top 5 features and the road network data,\n",
    "# and train a model again to see our results.\n",
    "\n",
    "# We can use the baseline top 5 we saved earlier\n",
    "# Let's add our network characteristics to the top 5 so we can trim all at once\n",
    "experimentFeatures = baselineTopFive + (['Node Connectivity', 'Average Node Degree', 'Top 10% BC'])\n",
    "XExperiment = unifiedData[experimentFeatures]\n",
    "yExperiment = populationForNetworks2021['Population, 2021']\n",
    "\n",
    "XTrainExperiment, XValExperiment, yTrainExperiment, yValExperiment = train_test_split(XExperiment, yExperiment, test_size=0.2, random_state=42)\n",
    "\n",
    "# Since the shape of X has changed, we will need a new column transformer\n",
    "# The unified transformer should still work\n",
    "\n",
    "experimentPreprocessor = ColumnTransformer(\n",
    "    transformers=[\n",
    "        ('num', unifiedTransformer, XExperiment.columns)\n",
    "    ]\n",
    ")\n",
    "experimentModel = Pipeline(steps=[\n",
    "    ('preprocessor', experimentPreprocessor),\n",
    "    ('regressor', unifiedRegressor)\n",
    "])\n",
    "\n",
    "experimentModel.fit(XTrainExperiment, yTrainExperiment)\n",
    "None"
   ]
  },
  {
   "cell_type": "code",
   "execution_count": 218,
   "metadata": {},
   "outputs": [
    {
     "name": "stdout",
     "output_type": "stream",
     "text": [
      "Validation RMSE: 13.760077078782796\n",
      "Validation R^2: 0.9911406576089997\n"
     ]
    },
    {
     "name": "stderr",
     "output_type": "stream",
     "text": [
      "c:\\Users\\danes\\Documents\\ACENETMicrocredentialinAdvancedComputing\\ISP\\CommunityGrowthPrediction\\ispEnv\\lib\\site-packages\\sklearn\\metrics\\_regression.py:492: FutureWarning: 'squared' is deprecated in version 1.4 and will be removed in 1.6. To calculate the root mean squared error, use the function'root_mean_squared_error'.\n",
      "  warnings.warn(\n"
     ]
    }
   ],
   "source": [
    "# Let's see how our experiment turned out\n",
    "yPredExperiment = experimentModel.predict(XValExperiment)\n",
    "\n",
    "valRmseExperiment = np.sqrt(mean_squared_error(yValExperiment, yPredExperiment, squared=False))\n",
    "valR2Experiment = r2_score(yValExperiment, yPredExperiment)\n",
    "\n",
    "print(f'Validation RMSE: {valRmseExperiment}')\n",
    "print(f'Validation R^2: {valR2Experiment}')\n"
   ]
  },
  {
   "cell_type": "code",
   "execution_count": 219,
   "metadata": {},
   "outputs": [
    {
     "name": "stdout",
     "output_type": "stream",
     "text": [
      "Total - Income statistics in 2015 for two-or-more-person private households - 100% data: 0.2762799942863578\n",
      "75 to 84 years: 0.1857923948925485\n",
      "Total - Private households by number of persons per room - 25% sample data: 0.1786736188063448\n",
      "30 to 34 years: 0.178427292519718\n",
      "In the second decile: 0.15992895003626809\n",
      "Top 10% BC: 0.020247960315302085\n",
      "Average Node Degree: 0.000568389982656382\n",
      "Node Connectivity: 8.139916080447965e-05\n"
     ]
    }
   ],
   "source": [
    "# Let's see if any of the network characteristics became important\n",
    "importancesExperiment = experimentModel.named_steps['regressor'].feature_importances_\n",
    "featuresExperiment = XExperiment.columns\n",
    "indicesExperiment = np.argsort(importancesExperiment)[::-1]\n",
    "\n",
    "# Since we only have 8 features, we can list them all\n",
    "for i in range(8):\n",
    "    print(f'{featuresExperiment[indicesExperiment[i]]}: {importancesExperiment[indicesExperiment[i]]}')"
   ]
  },
  {
   "cell_type": "markdown",
   "metadata": {},
   "source": [
    "Only the betweenness centrality had much impact, but it looks like the model performance did improve slightly with the  addition of the road network characteristics. However, it would be reasonable to conclude here that the census data is so effective at predicting population change that the road network data is superfluous. It may be worth looking at in some more detail when less robust population data is available, but let's leave it out of the work exploring the other research questions for now. "
   ]
  },
  {
   "cell_type": "markdown",
   "metadata": {},
   "source": []
  }
 ],
 "metadata": {
  "kernelspec": {
   "display_name": "ispEnv",
   "language": "python",
   "name": "python3"
  },
  "language_info": {
   "codemirror_mode": {
    "name": "ipython",
    "version": 3
   },
   "file_extension": ".py",
   "mimetype": "text/x-python",
   "name": "python",
   "nbconvert_exporter": "python",
   "pygments_lexer": "ipython3",
   "version": "3.10.1"
  }
 },
 "nbformat": 4,
 "nbformat_minor": 2
}
