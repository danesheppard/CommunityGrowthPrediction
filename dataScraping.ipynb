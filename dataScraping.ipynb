{
 "cells": [
  {
   "cell_type": "code",
   "execution_count": null,
   "metadata": {},
   "outputs": [],
   "source": [
    "import osmnx as ox\n",
    "\n",
    "# Configure osmnx to use drive network by default\n",
    "ox.config(use_cache=True, log_console=True)\n",
    "\n",
    "# Specify the location in a format appropriate for OpenStreetmap's data structures\n",
    "location = \"New Brunswick, Canada\"\n",
    "\n",
    "# Download the road network for New Brunswick\n",
    "road_network = ox.graph_from_place(location, network_type='drive')\n",
    "\n",
    "# Extract key road network features. \n",
    "# Our selected features are node connectivity, betweenness centrality, and the average neighbor degree\n",
    "\n",
    "# Save the network to a file (GraphML format recommended for compatibility)\n",
    "ox.save_graphml(road_network, filepath=\"new_brunswick_roads.graphml\")"
   ]
  },
  {
   "cell_type": "code",
   "execution_count": null,
   "metadata": {},
   "outputs": [],
   "source": [
    "from stats_can import StatsCan\n",
    "\n",
    "# Initialize the StatsCan object\n",
    "sc = StatsCan()\n",
    "\n",
    "# Specify the table IDs we will need to capture our key features\n",
    "table_ids = ['98-316-X2016001']\n",
    "\n",
    "# Download the specified tables\n",
    "tables = sc.get_tables(table_ids)\n",
    "\n",
    "# Filter the tables to only include the data for New Brunswick\n",
    "new_brunswick_data = tables[0][tables[0]['GEO'] == 'New Brunswick']\n",
    "\n",
    "# Save the data to a file\n",
    "new_brunswick_data.to_csv('new_brunswick_census_data.csv')\n",
    "\n",
    "# This project may use the entirety of the StatCan dataset as the parameter space for community characteristics, \n",
    "# or columns may be specifically constructed to focus on population change, age characteristics, \n",
    "# household characteristics, and details related to occupation and employment. \n",
    "# \n",
    "# There is also an oppotunity to calculate a variety of sub-characteristics, like \"Population and Job Balance\", \n",
    "# which measures the ratio between population and jobs within each community, \n",
    "# although use of these characteristics will be a stretch goal."
   ]
  },
  {
   "cell_type": "code",
   "execution_count": null,
   "metadata": {},
   "outputs": [],
   "source": []
  }
 ],
 "metadata": {
  "kernelspec": {
   "display_name": "ispEnv",
   "language": "python",
   "name": "python3"
  },
  "language_info": {
   "codemirror_mode": {
    "name": "ipython",
    "version": 3
   },
   "file_extension": ".py",
   "mimetype": "text/x-python",
   "name": "python",
   "nbconvert_exporter": "python",
   "pygments_lexer": "ipython3",
   "version": "3.10.1"
  }
 },
 "nbformat": 4,
 "nbformat_minor": 2
}
