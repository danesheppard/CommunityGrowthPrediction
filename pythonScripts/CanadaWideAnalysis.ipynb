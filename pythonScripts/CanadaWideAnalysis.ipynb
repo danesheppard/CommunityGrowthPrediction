{
 "cells": [
  {
   "cell_type": "code",
   "execution_count": 2,
   "metadata": {},
   "outputs": [],
   "source": [
    "# This script will run an analysis of population growth for all of Canada\n",
    "# using our preprocessed Canadian census data\n",
    "# Typical data processing libraries\n",
    "import pandas as pd\n",
    "import numpy as np\n",
    "import matplotlib.pyplot as plt\n",
    "\n",
    "# Machine learning libraries\n",
    "from sklearn.model_selection import train_test_split\n",
    "from sklearn.pipeline import Pipeline\n",
    "from sklearn.impute import SimpleImputer\n",
    "from sklearn.preprocessing import StandardScaler, OneHotEncoder\n",
    "from sklearn.compose import ColumnTransformer\n",
    "\n",
    "from sklearn.ensemble import RandomForestRegressor\n",
    "\n",
    "from sklearn.metrics import mean_squared_error, r2_score\n",
    "\n",
    "from sklearn.model_selection import GridSearchCV"
   ]
  },
  {
   "cell_type": "code",
   "execution_count": 5,
   "metadata": {},
   "outputs": [],
   "source": [
    "# Load the data\n",
    "\n",
    "dataSetName = 'Canada'\n",
    "census2016 = pd.read_csv(f'../processedData/processed_{dataSetName}_2016.csv')\n",
    "census2021 = pd.read_csv(f'../processedData/processed_{dataSetName}_2021.csv')"
   ]
  },
  {
   "cell_type": "code",
   "execution_count": 7,
   "metadata": {},
   "outputs": [
    {
     "name": "stdout",
     "output_type": "stream",
     "text": [
      "Trimmed 2016 data Shape: (3405, 216)\n",
      "Trimmed 2021 data Shape: (3405, 3)\n"
     ]
    }
   ],
   "source": [
    "# We only need the GEO_NAME for cross referencing, the population count for training,\n",
    "# and the province for handling duplicate community names\n",
    "trimmed2021 = census2021[['GEO_NAME', 'Province', 'Population, 2021']]\n",
    "# Drop any rows with missing population data\n",
    "trimmed2021 = trimmed2021.dropna()\n",
    "# Sort the data by community name\n",
    "trimmed2021 = trimmed2021.sort_values(by='GEO_NAME')\n",
    "# Take a subset of the 2021 data that matches \n",
    "# the communities in the 2016 data. Note that community name is 'GEO_NAME' in both datasets.\n",
    "# We will need to use a merge rather than a simple isin() because we need to match across multiple columns\n",
    "trimmed2021 = trimmed2021.merge(census2016[['GEO_NAME', 'Province']], on=['GEO_NAME', 'Province'], how='inner')\n",
    "\n",
    "# Now let's trim the 2016 data to only include what has a match in our trimmed 2021 data\n",
    "trimmed2016 = census2016.merge(trimmed2021[['GEO_NAME', 'Province']], on=['GEO_NAME', 'Province'], how='inner')\n",
    "\n",
    "# As a last step before we are done, we need to sort the dataframes by the community name so that the\n",
    "# data is in the same order for both datasets\n",
    "trimmed2016 = trimmed2016.sort_values(by='GEO_NAME')\n",
    "trimmed2021 = trimmed2021.sort_values(by='GEO_NAME')\n",
    "\n",
    "print(f'Trimmed 2016 data Shape: {trimmed2016.shape}')\n",
    "print(f'Trimmed 2021 data Shape: {trimmed2021.shape}')\n"
   ]
  },
  {
   "cell_type": "code",
   "execution_count": null,
   "metadata": {},
   "outputs": [],
   "source": []
  }
 ],
 "metadata": {
  "kernelspec": {
   "display_name": "ispEnv",
   "language": "python",
   "name": "python3"
  },
  "language_info": {
   "codemirror_mode": {
    "name": "ipython",
    "version": 3
   },
   "file_extension": ".py",
   "mimetype": "text/x-python",
   "name": "python",
   "nbconvert_exporter": "python",
   "pygments_lexer": "ipython3",
   "version": "3.10.1"
  }
 },
 "nbformat": 4,
 "nbformat_minor": 2
}
